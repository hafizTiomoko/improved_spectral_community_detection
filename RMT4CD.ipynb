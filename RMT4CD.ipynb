{
 "cells": [
  {
   "cell_type": "code",
   "execution_count": 60,
   "metadata": {
    "collapsed": false
   },
   "outputs": [],
   "source": [
    "import numpy as np\n",
    "import math as math\n",
    "import matplotlib.pyplot as plt\n",
    "import networkx as nx\n",
    "from munkres import Munkres\n",
    "from numpy import linalg as LA\n",
    "from sklearn.cluster import KMeans\n",
    "from scipy.sparse.linalg.eigen.arpack import eigsh as largest_eigsh\n",
    "from scipy.stats import bernoulli"
   ]
  },
  {
   "cell_type": "markdown",
   "metadata": {
    "slideshow": {
     "slide_type": "slide"
    }
   },
   "source": [
    "# **NETWORK GENERATION**"
   ]
  },
  {
   "cell_type": "code",
   "execution_count": 61,
   "metadata": {
    "collapsed": true
   },
   "outputs": [],
   "source": [
    "def network_generate():\n",
    "        ### We may have real world networks or synthetic graphs following the DCSBM\n",
    "\n",
    "    ## Choice of the network to generate\n",
    "    #network='real_world'   ## Choose either 'real_world' or 'real_world'\n",
    "    network='DCSBM'\n",
    "\n",
    "    if network=='real_world':\n",
    "        ##Get the adjacency matrix\n",
    "        #Given the network, find the corresponding adjacency matrix\n",
    "        scenario='dolphins.gml'\n",
    "        G = nx.read_gml(scenario)\n",
    "        G_0=G\n",
    "\n",
    "        ##Remove nodes without neighbors\n",
    "        isolated_nodes=nx.isolates(G)\n",
    "        G.remove_nodes_from(isolated_nodes)\n",
    "\n",
    "        ## Adjacency matrix\n",
    "        A=nx.adjacency_matrix(G,nodelist=None,weight=None)\n",
    "        A=A.todense()\n",
    "\n",
    "        ##New number of instances after removing isolated nodes\n",
    "        n=len(A[:,1])\n",
    "\n",
    "        ## Ground truth\n",
    "        ground_truth=np.zeros((n,1))\n",
    "        for i in range(int(0),int(n)):\n",
    "            if(0 in G_0.nodes()):\n",
    "                ground_truth[i] = G_0.node[i]['value']\n",
    "            else:\n",
    "                ground_truth[i] = G_0.node[i+1]['value']\n",
    "\n",
    "        ## Remove the label of the node with no neighbor\n",
    "        np.delete(ground_truth,isolated_nodes)\n",
    "        ##Check wether the first element of the ground truth start from 0 or from 1\n",
    "        if(min(ground_truth)==0):\n",
    "            startGround_truth=0\n",
    "        else:\n",
    "            startGround_truth = 1\n",
    "\n",
    "    if network=='DCSBM':\n",
    "        n_init=2000\n",
    "        ##Class proportions\n",
    "        cs = [0.25,0.25,0.5]\n",
    "        ## Number of classes\n",
    "        K = len(cs)\n",
    "        ## Number of instances per class\n",
    "        ns =np.array(cs) * n_init\n",
    "\n",
    "        ##Setting of the model parameters\n",
    "        ## Average connectivities q's\n",
    "        #bs = [0.25,0.75]\n",
    "        bs = [0.75, 0.25]\n",
    "        q1 = 0.4\n",
    "        q2= 0.8\n",
    "        q=np.repeat(np.array([q1,q2]),[int(n_init*bs[0]),int(n_init*bs[1])])\n",
    "\n",
    "        # Choice of affinity matrix M\n",
    "        #M = 10 * (-1 * np.ones(K) + 2 * np.identity(K))\n",
    "        M=15*np.identity(K)\n",
    "        # Construction of C\n",
    "        C = np.ones((int(K),int(K)))+M/math.sqrt(n_init)\n",
    "\n",
    "        ##Extenxion of C in an nxn bloc matrix\n",
    "        large_C=np.zeros((int(n_init),int(n_init)))\n",
    "        for i in range(int(0),int(K)):\n",
    "            for j in range(int(0),int(K)):\n",
    "                large_C[int(np.sum(ns[int(0):i])):int(np.sum(ns[int(0):i+1])),int(np.sum(ns[int(0):j])):int(np.sum(ns[int(0):j+1]))]=C[i,j]*np.ones((ns[i],ns[j]))\n",
    "\n",
    "        ## Construction of matrix of DCSBM edge probabilities\n",
    "        P=np.minimum(((np.diag(q)).dot(large_C)).dot(np.diag(q)),np.ones((n_init,n_init)))\n",
    "        ## Generation adjacency matrix A\n",
    "        A = np.zeros((int(n_init), int(n_init)))\n",
    "        for i in range(int(0),int(n_init)):\n",
    "            #A[i,]=np.random.binomial(1,P[i,], size=n)\n",
    "            A[i,]=bernoulli.rvs(P[i,:],size=n_init)\n",
    "\n",
    "        ## Ground_truth\n",
    "        ground_truth = np.zeros((n_init,1))\n",
    "        for i in range(int(0),int(K)):\n",
    "            ground_truth[int(np.sum(ns[int(0):i])):int(np.sum(ns[int(0):i+1]))]=i* np.ones((ns[i],1))\n",
    "\n",
    "        ##Construct graph from adjacency matrix\n",
    "        G = nx.from_numpy_matrix(A)\n",
    "        ##Remove nodes without neighbors\n",
    "        isolated_nodes=nx.isolates(G)\n",
    "        G.remove_nodes_from(isolated_nodes)\n",
    "        ## Remove the label of the node with no neighbor\n",
    "        np.delete(ground_truth,isolated_nodes)\n",
    "\n",
    "        A=nx.adjacency_matrix(G,nodelist=None,weight=None)\n",
    "        A=A.todense()\n",
    "\n",
    "        ## Symmetrization of the adjacency matrix in order to have an undirected unweighted graph\n",
    "        A = np.triu(A)+np.transpose(np.triu(A))\n",
    "        startGround_truth=0\n",
    "\n",
    "    return A,ground_truth,startGround_truth"
   ]
  },
  {
   "cell_type": "markdown",
   "metadata": {},
   "source": [
    "# **OPTIMAL ALPHA ESTIMATE**"
   ]
  },
  {
   "cell_type": "code",
   "execution_count": 62,
   "metadata": {
    "collapsed": true
   },
   "outputs": [],
   "source": [
    "def optimal_alpha(qEst,n):\n",
    "\n",
    "    alpha = np.arange(0, 1, 0.01)\n",
    "    limit = []\n",
    "    for a in alpha:\n",
    "        left = 0.0\n",
    "        right = 100.0\n",
    "\n",
    "        found_a_valid_point = 0\n",
    "\n",
    "        gsavetmp = 0\n",
    "        gsave = 1\n",
    "        val_external_watchdog = 1000\n",
    "        external_watchdog = 1\n",
    "\n",
    "        q_pow_1m2a = np.power(qEst, (1 - 2 * a))\n",
    "        q_pow_2m2a = np.power(qEst, (2 - 2 * a))\n",
    "\n",
    "        while (abs(gsavetmp - gsave) > 1e-5 and external_watchdog < val_external_watchdog):\n",
    "            x = (left + right) / 2\n",
    "            watchdog = 1\n",
    "            ftmp = 0\n",
    "            gtmp = 0\n",
    "            f = 1\n",
    "            g = 1\n",
    "\n",
    "            while (max([abs(gtmp - g), abs(ftmp - f)]) > 1e-10 and watchdog < 1e2):\n",
    "                ftmp = f\n",
    "                gtmp= g\n",
    "\n",
    "                den=(1./n)/(-x - q_pow_1m2a * ftmp + q_pow_2m2a * gtmp)\n",
    "                f = np.dot(np.squeeze(np.asarray(q_pow_1m2a)),np.squeeze(np.asarray(den)))\n",
    "\n",
    "                g = np.dot(np.squeeze(np.asarray(q_pow_2m2a)),np.squeeze(np.asarray(den)))\n",
    "\n",
    "                watchdog = watchdog + 1\n",
    "\n",
    "            if (watchdog < 1e2):\n",
    "                found_a_valid_point = 1\n",
    "                gsavetmp = gsave\n",
    "                right = x\n",
    "                gsave = g\n",
    "            else:\n",
    "                if (found_a_valid_point == 0):\n",
    "                    right = 2 * right\n",
    "                left = x\n",
    "            external_watchdog += 1\n",
    "\n",
    "        g = gsave\n",
    "\n",
    "        limit.append(-1.0 / g)\n",
    "\n",
    "\n",
    "    # plot(alpha,limit)\n",
    "    min_value = min(limit)\n",
    "    index = np.where(limit == min_value)[0]\n",
    "    alpha = alpha[index]\n",
    "\n",
    "    return alpha"
   ]
  },
  {
   "cell_type": "markdown",
   "metadata": {},
   "source": [
    "# **REGULARIZED LEADING EIGENVECTORS**"
   ]
  },
  {
   "cell_type": "code",
   "execution_count": 63,
   "metadata": {
    "collapsed": true
   },
   "outputs": [],
   "source": [
    "def regularized_eigenvectors(A, d, K, alpha):\n",
    "    d = np.array(d)\n",
    "    n = len(A[:, 1])\n",
    "    # Compute the degrees and other related metrics\n",
    "    dalpha = np.power(d, -alpha)\n",
    "\n",
    "    d1alpha = np.power(d, (alpha - 1))\n",
    "    invDalpha = np.diag(dalpha[:, 0])\n",
    "    invD1alpha = np.diag(d1alpha[:, 0])\n",
    "\n",
    "\n",
    "    # Compute the affinity matrix L_alpha\n",
    "    B = (A - d.dot(np.transpose(d)) / (np.transpose(d).dot((np.ones((n, 1)))))) / math.sqrt(n)\n",
    "    L_alpha = (invDalpha.dot(B)).dot(invDalpha)\n",
    "\n",
    "    # Compute the dominant eigenvectors of L_alpha\n",
    "    evals_large_sparse, evecs_large_sparse = largest_eigsh(L_alpha, K-1, which='LM')\n",
    "\n",
    "    #Normalize the dominant eigenvectors\n",
    "    normalized_evecs = invD1alpha.dot(evecs_large_sparse)\n",
    "\n",
    "    return normalized_evecs,L_alpha\n",
    "\n"
   ]
  },
  {
   "cell_type": "markdown",
   "metadata": {},
   "source": [
    "# **K-MEANS AND PERFORMANCE EVALUATION**"
   ]
  },
  {
   "cell_type": "code",
   "execution_count": 64,
   "metadata": {
    "collapsed": false
   },
   "outputs": [],
   "source": [
    "def modified_kmeans(normalized_evecs, K, ground_truth, startGround_truth):\n",
    "    \n",
    "    ## Number of instances\n",
    "    n=len(ground_truth)\n",
    "\n",
    "    ## k-means to normalized eigenvectors\n",
    "    kmeans_output = KMeans(n_clusters=K, init='k-means++', random_state=None).fit(normalized_evecs)\n",
    "    labels = kmeans_output.labels_\n",
    "\n",
    "    #print labels\n",
    "\n",
    "\n",
    "\n",
    "    ## Computation of the cost matrix\n",
    "    costMat = np.zeros((int(K), int(K)))\n",
    "    for a in range(int(0), int(K)):\n",
    "        for b in range(int(0), int(K)):\n",
    "            idd = np.where(labels == a)[0]\n",
    "            if (startGround_truth == 0):\n",
    "                costMat[a, b] = -(np.sum((np.array(ground_truth))[idd] == b)) ** 2\n",
    "            else:\n",
    "                costMat[a, b] = -(np.sum((np.array(ground_truth))[idd] == (b + 1))) ** 2\n",
    "    #print costMat\n",
    "\n",
    "    ## Find the best label permutation best matching the ground truth with the previous cost Matrix using the Hungarian Munkres algorithm\n",
    "    m = Munkres()\n",
    "    permutation = m.compute(costMat)\n",
    "    #print  permutation\n",
    "    perm = np.array(permutation)\n",
    "\n",
    "    ## Permute the labels\n",
    "    Labels = []\n",
    "    for l in range(int(0), int(n)):\n",
    "        for j in range(int(0), int(K)):\n",
    "            if labels[l] == j:\n",
    "                Labels.append(perm[j, 1])\n",
    "\n",
    "    # Labels = np.transpose(labels)\n",
    "\n",
    "    ## Compute the accuracy (normalized number of matching with the ground truth)\n",
    "    if (startGround_truth == 0):\n",
    "        accuracy = float(np.sum(((np.asarray(Labels)) == np.squeeze(ground_truth)))) / n\n",
    "    else:\n",
    "        accuracy = float(np.sum(((np.asarray(Labels) + 1) == np.squeeze(ground_truth)))) / n\n",
    "\n",
    "    ## Compute the overlap performance\n",
    "    perf = (accuracy - 1.0 / K) / (1 - 1.0 / K)\n",
    "    print(\"The overlap performance for this graph is:\",perf)\n",
    "\n",
    "    return perf\n",
    "\n"
   ]
  },
  {
   "cell_type": "markdown",
   "metadata": {},
   "source": [
    "# **HISTOGRAM OF THE EIGENVALUES**"
   ]
  },
  {
   "cell_type": "code",
   "execution_count": 65,
   "metadata": {
    "collapsed": true
   },
   "outputs": [],
   "source": [
    "def histogram_eigenvalues(matrix,qEst,alpha):\n",
    "\n",
    "    ##Computation of the similarity matrix length\n",
    "    n=len(matrix[:,0])\n",
    "\n",
    "    ## Eigenvalues of the similarity matrix\n",
    "    evals, evecs=LA.eig(matrix)\n",
    "\n",
    "    ## Histogram of eigenvalues\n",
    "    n_bins=100\n",
    "    N, bins, patches = plt.hist(evals, n_bins, normed=1, facecolor='red')\n",
    "\n",
    "\n",
    "    ## Limiting spectrum (Theory)\n",
    "    limit_spectrum = np.zeros((len(bins), 1))\n",
    "\n",
    "    j = 0\n",
    "    for x in bins:\n",
    "        ## The density (at x) of a given measure \\mu having Stieljes transform m is given by \\mu(x)= imaginary_part(m(z))\n",
    "        ## for z=x+e*1j in the limit when e-->0. This is what is implementing in the following. The Stieltjes transform\n",
    "        ##for our model is E which is a function of f,g and of the average connectivities qEst. f,g are defined through a\n",
    "        ##system of fixed point equations computed by the function that we call Stieltjes. The details are given in our\n",
    "        ##article http://laneas.com/sites/default/files/attachments-16202/JMLR_format_CD_0.pdf\n",
    "        z = x + (10 ** (-2))*1j\n",
    "        [f, g] = Stieltjes(qEst, n, z, alpha, 1e3)\n",
    "        E = (np.sum(1. / (-z - f * np.power(qEst, (1 - 2 * alpha)) + g * np.power(qEst, (2 - 2 * alpha)))))/n\n",
    "        limit_spectrum[j] = (1. / math.pi) * E.imag\n",
    "        j+=1\n",
    "    \n",
    "    print(\"This is a visualization of the empirical density of the eigenvalues of the graph similarity matrix along with the theoretical density\")\n",
    "    plt.plot(bins,limit_spectrum)\n",
    "    plt.show()"
   ]
  },
  {
   "cell_type": "markdown",
   "metadata": {},
   "source": [
    "# **COMPUTATION OF THE STIELTJES TRANSFORM OF THE MODEL**"
   ]
  },
  {
   "cell_type": "code",
   "execution_count": 66,
   "metadata": {
    "collapsed": true
   },
   "outputs": [],
   "source": [
    "### This function is a simple implementation of the solution of the fixed points equations defined in the Theorem 3\n",
    "### of our article http://laneas.com/sites/default/files/attachments-16202/JMLR_format_CD_0.pdf\n",
    "\n",
    "### Input: qEst: the estimated average connectivities weights,\n",
    "### n: length of the average connectivities or number of graph nodes,\n",
    "### z: complex number at which we want to evaluate the model Stieltjes transform\n",
    "### alpha: degree power parameter for the normalization of the modularity matrix\n",
    "### val_watchdog: stopping number of iterations for the algorithm\n",
    "\n",
    "### Output: f(z),g(z) parameters allowing to compute the model Stieltjes transform at z\n",
    "\n",
    "def Stieltjes(qEst, n, z, alpha, val_watchdog):\n",
    "\n",
    "    q_pow_1m2a = np.power(qEst, (1 - 2 * alpha))\n",
    "    q_pow_2m2a = np.power(qEst, (2 - 2 * alpha))\n",
    "    ftmp = 0\n",
    "    gtmp = 0\n",
    "    f = 1\n",
    "    g = 1\n",
    "\n",
    "    watchdog=1\n",
    "    while (max([abs(gtmp - g), abs(ftmp - f)]) > 1e-10 and watchdog < val_watchdog):\n",
    "        ftmp = f\n",
    "        gtmp = g\n",
    "\n",
    "        den = (1. / n) / (-z - q_pow_1m2a * ftmp + q_pow_2m2a * gtmp)\n",
    "        f = np.dot(np.squeeze(np.asarray(q_pow_1m2a)), np.squeeze(np.asarray(den)))\n",
    "        g = np.dot(np.squeeze(np.asarray(q_pow_2m2a)), np.squeeze(np.asarray(den)))\n",
    "\n",
    "        watchdog = watchdog + 1\n",
    "\n",
    "    return f,g"
   ]
  },
  {
   "cell_type": "markdown",
   "metadata": {},
   "source": [
    "# **VISUALIZATION OF LEADING EIGENVECTORS USED FOR CLUSTERING**"
   ]
  },
  {
   "cell_type": "code",
   "execution_count": 67,
   "metadata": {
    "collapsed": true
   },
   "outputs": [],
   "source": [
    "def eigen_plots(L_alpha,number_of_dominant_vectors_to_extract):\n",
    "    # Compute the dominant eigenvectors of L_alpha\n",
    "    evals_large_sparse, evecs_large_sparse = largest_eigsh(L_alpha, number_of_dominant_vectors_to_extract, which='LM')\n",
    "    plt.plot(evecs_large_sparse[:,-1],evecs_large_sparse[:,-2],'*', color='red')\n",
    "    \n",
    "    print(\"The following plot is a representation in 2D of the two dominant eigenvectors of the graph similarity matrix\")\n",
    "    plt.show()"
   ]
  },
  {
   "cell_type": "markdown",
   "metadata": {},
   "source": [
    "# **MAIN**"
   ]
  },
  {
   "cell_type": "code",
   "execution_count": 68,
   "metadata": {
    "collapsed": false
   },
   "outputs": [
    {
     "name": "stderr",
     "output_type": "stream",
     "text": [
      "/Users/hafiztiomokoali/anaconda3/lib/python3.6/site-packages/numpy/core/numeric.py:190: VisibleDeprecationWarning: using a non-integer number instead of an integer will result in an error in the future\n",
      "  a = empty(shape, dtype, order)\n"
     ]
    },
    {
     "name": "stdout",
     "output_type": "stream",
     "text": [
      "The overlap performance for this graph is: 0.9947499999999999\n",
      "This is a visualization of the empirical density of the eigenvalues of the graph similarity matrix along with the theoretical density\n"
     ]
    },
    {
     "data": {
      "image/png": "[encoded data removed]",
      "text/plain": [
       "<matplotlib.figure.Figure at 0x12166a160>"
      ]
     },
     "metadata": {},
     "output_type": "display_data"
    },
    {
     "name": "stdout",
     "output_type": "stream",
     "text": [
      "The following plot is a representation in 2D of the two dominant eigenvectors of the graph similarity matrix\n"
     ]
    },
    {
     "data": {
      "image/png": "[encoded data removed]",
      "text/plain": [
       "<matplotlib.figure.Figure at 0x108ca5048>"
      ]
     },
     "metadata": {},
     "output_type": "display_data"
    }
   ],
   "source": [
    "### Get the graph on which we want to extract the communities\n",
    "A, ground_truth, startGround_truth = network_generate()  ## startGround_truth is 0 when the minimum value of the ground truth is 0 and 1 otherwise\n",
    "### Get the adjacency matrix and the ground_truth from csv files\n",
    "#A = np.genfromtxt('adjacency.csv', delimiter=\",\")\n",
    "#ground_truth = np.genfromtxt('conf_true.csv', delimiter=\",\")\n",
    "\n",
    "n=len(A[:,1])\n",
    "\n",
    "## Step 1: Compute the optimal value of \\alpha\n",
    "\n",
    "#### The following part is concerned by the estimation of the model parameters given the adjacency matrix\n",
    "## Degree vector\n",
    "d = A.dot(np.ones((n, 1)))\n",
    "\n",
    "##Estimate the average connectivities\n",
    "qEst = d / math.sqrt(np.sum(d))\n",
    "\n",
    "## Number of classes\n",
    "if (startGround_truth == 0):\n",
    "    K = int(np.amax(ground_truth) + 1)\n",
    "else:\n",
    "    K = int(np.amax(ground_truth))\n",
    "#print K\n",
    "\n",
    "alpha=optimal_alpha(qEst,n)\n",
    "alpha=0\n",
    "#print alpha\n",
    "\n",
    "\n",
    "#### Step 2: Leading eigenvectors of L_alpha extraction\n",
    "normalized_evecs,L_alpha=regularized_eigenvectors(A, d, K, alpha)\n",
    "\n",
    "\n",
    "### Step 3: Kmeans on the normalized eigenvectors and computation of performances\n",
    "perf = modified_kmeans(normalized_evecs, K, ground_truth, startGround_truth)\n",
    "\n",
    "## Histogram of the eigenvalues (Empirical vs Theory)\n",
    "\n",
    "histogram_eigenvalues(L_alpha,qEst,alpha)\n",
    "\n",
    "\n",
    "### Plot of the eigenvectors in 2D\n",
    "eigen_plots(L_alpha,4)\n",
    "\n"
   ]
  },
  {
   "cell_type": "code",
   "execution_count": null,
   "metadata": {
    "collapsed": true
   },
   "outputs": [],
   "source": []
  }
 ],
 "metadata": {
  "kernelspec": {
   "display_name": "Python 3",
   "language": "python",
   "name": "python3"
  },
  "language_info": {
   "codemirror_mode": {
    "name": "ipython",
    "version": 3
   },
   "file_extension": ".py",
   "mimetype": "text/x-python",
   "name": "python",
   "nbconvert_exporter": "python",
   "pygments_lexer": "ipython3",
   "version": "3.6.0"
  }
 },
 "nbformat": 4,
 "nbformat_minor": 2
}
